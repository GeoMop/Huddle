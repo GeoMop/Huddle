{
 "cells": [
  {
   "cell_type": "markdown",
   "metadata": {
    "slideshow": {
     "slide_type": "slide"
    }
   },
   "source": [
    "# typing, attr.s, dataclasses - k čemu je to dobré\n",
    "\n",
    "**Abstrakt**\n",
    "\n",
    "Python 3.6 přinesl podporu 'type hints/annotations' zavádějící některé vlastnosti staticky typovaných jazyků. Ukážeme si proč je to dobré a jak zůstává zachována kompatibilita s duck-typingem. Dále krátce představím knihovnu 'attr.s' a porovnám jí s možnostmi 'dataclasses' zavedenými v Python 3.7. Přehledová přednáška vychází z aplikace uvedených technologií při vývoji workflow systému pro high performance computing.\n",
    "\n",
    "**Odvozeno od:**\n",
    "\n",
    "[Carl Meyer (Instagram): Type-checked Python in the real world, PyCon 2018](https://www.youtube.com/watch?v=pMgmKJyWKn8)\n",
    "\n"
   ]
  },
  {
   "cell_type": "markdown",
   "metadata": {
    "slideshow": {
     "slide_type": "slide"
    }
   },
   "source": [
    "## Zdrojový kód = zápis programu **čitelný lidmi**\n",
    "\n",
    "\n"
   ]
  },
  {
   "cell_type": "markdown",
   "metadata": {
    "slideshow": {
     "slide_type": "slide"
    }
   },
   "source": [
    "## duck typing / dynamic typing\n",
    "\n",
    "- kompaktní kód (no boilerplate)\n",
    "- redukce informačního šumu\n",
    "- rychlejší vývoj (unit tests, refacotring):\n",
    "    - žádná dlouhá kompilace \n",
    "    - méně času stráveného laděním formálních chyb\n",
    "\n",
    "## static typing\n",
    "\n",
    "- lepší informace o předávaných datech\n",
    "- lepší definice API, důležité pro velké projekty\n",
    "- méně chyb, dřívější odhalení  \n",
    "- rychlejší běh \n",
    "\n",
    " "
   ]
  },
  {
   "cell_type": "code",
   "execution_count": null,
   "metadata": {
    "slideshow": {
     "slide_type": "slide"
    }
   },
   "outputs": [],
   "source": [
    "def process(self, items):\n",
    "    for item in items:\n",
    "        self.append(item.value.id)"
   ]
  },
  {
   "cell_type": "markdown",
   "metadata": {
    "slideshow": {
     "slide_type": "fragment"
    }
   },
   "source": [
    "- duck-typing = typ 'items' dán implicitně kódem\n",
    "- pro složitější funkce časově náročné\n",
    "- neodhalené chyby při použití funkce\n",
    "- problematický refactoring (ve velkém projektu)"
   ]
  },
  {
   "cell_type": "code",
   "execution_count": null,
   "metadata": {
    "slideshow": {
     "slide_type": "slide"
    }
   },
   "outputs": [],
   "source": [
    "def process(self, items):\n",
    "    for item in items:\n",
    "        self.append(item.value.id)"
   ]
  },
  {
   "cell_type": "markdown",
   "metadata": {
    "slideshow": {
     "slide_type": "fragment"
    }
   },
   "source": [
    "`items` je:\n",
    "- sekvence objektů:\n",
    "- majících atribut *value*, jehož typ \n",
    "- má atribut *id*"
   ]
  },
  {
   "cell_type": "code",
   "execution_count": null,
   "metadata": {
    "slideshow": {
     "slide_type": "slide"
    }
   },
   "outputs": [],
   "source": [
    "from typing import Sequence\n",
    "from .model import Item\n",
    "\n",
    "def process(self, items : Sequence[Item]) -> None:\n",
    "    for item in items:\n",
    "        self.append(item.value.id)"
   ]
  },
  {
   "cell_type": "markdown",
   "metadata": {
    "slideshow": {
     "slide_type": "fragment"
    }
   },
   "source": [
    "`items` je:\n",
    "- sekvence objektů:\n",
    "- majících atribut *value*, jehož typ \n",
    "- má atribut *id*"
   ]
  },
  {
   "cell_type": "markdown",
   "metadata": {
    "slideshow": {
     "slide_type": "slide"
    }
   },
   "source": [
    "## Jak používat 'type annotations'?\n",
    "`typecheck` = IPython magie, která spustí 'mypy' na kód v buňce"
   ]
  },
  {
   "cell_type": "code",
   "execution_count": 12,
   "metadata": {},
   "outputs": [
    {
     "name": "stdout",
     "output_type": "stream",
     "text": [
      "<string>:11: error: Argument 1 to \"square\" has incompatible type \"str\"; expected \"float\"\n",
      "<string>:12: error: Unsupported operand types for + (\"float\" and \"str\")\n",
      "\n"
     ]
    }
   ],
   "source": [
    "%%typecheck\n",
    "\n",
    "from typing import *\n",
    "\n",
    "def square( x: float) -> float:\n",
    "    return x**2\n",
    "\n",
    "def main() -> None:\n",
    "    square(1)\n",
    "    square(1.0)\n",
    "    square(\"one\")\n",
    "    square(1) + \"one\"\n",
    "\n",
    "def no_type_check():\n",
    "    square(\"one\")"
   ]
  },
  {
   "cell_type": "markdown",
   "metadata": {
    "slideshow": {
     "slide_type": "slide"
    }
   },
   "source": [
    "## Odvozování typů"
   ]
  },
  {
   "cell_type": "code",
   "execution_count": 14,
   "metadata": {
    "slideshow": {
     "slide_type": "fragment"
    }
   },
   "outputs": [
    {
     "name": "stdout",
     "output_type": "stream",
     "text": [
      "<string>:9: error: Incompatible return value type (got \"Tuple[int, int]\", expected \"Tuple[str, str]\")\n",
      "\n"
     ]
    }
   ],
   "source": [
    "%%typecheck\n",
    "from typing import *\n",
    "\n",
    "class Photo:\n",
    "    def __init__(self, width:int, height: int):\n",
    "        self.width, self.height = width, height\n",
    "    \n",
    "    def dimensions(self) -> Tuple[str, str]:\n",
    "        return (self.width, self.height)"
   ]
  },
  {
   "cell_type": "code",
   "execution_count": null,
   "metadata": {
    "slideshow": {
     "slide_type": "slide"
    }
   },
   "outputs": [],
   "source": [
    "## Homogenní listy"
   ]
  },
  {
   "cell_type": "code",
   "execution_count": 17,
   "metadata": {
    "slideshow": {
     "slide_type": "fragment"
    }
   },
   "outputs": [
    {
     "name": "stdout",
     "output_type": "stream",
     "text": [
      "<string>:4: error: Argument 1 to \"append\" of \"list\" has incompatible type \"int\"; expected \"str\"\n",
      "<string>:6: error: Name 'names' already defined on line 3\n",
      "\n"
     ]
    }
   ],
   "source": [
    "%%typecheck\n",
    "from typing import List\n",
    "names = ['Petr', 'Pavel']\n",
    "names.append(1)\n",
    "\n",
    "names: List[str] = []\n",
    "names.append('Petr')    "
   ]
  },
  {
   "cell_type": "markdown",
   "metadata": {
    "slideshow": {
     "slide_type": "slide"
    }
   },
   "source": [
    "## Union"
   ]
  },
  {
   "cell_type": "code",
   "execution_count": 26,
   "metadata": {
    "slideshow": {
     "slide_type": "fragment"
    }
   },
   "outputs": [
    {
     "name": "stdout",
     "output_type": "stream",
     "text": [
      "<string>:7: error: Unsupported operand types for ** (\"float\" and \"str\")\n",
      "<string>:7: note: Right operand is of type \"Union[float, str]\"\n",
      "<string>:7: error: Unsupported operand types for / (\"int\" and \"str\")\n",
      "\n",
      "3.0\n",
      "2\n"
     ]
    }
   ],
   "source": [
    "%%typecheck\n",
    "from typing import List, Union\n",
    "def norm(vector: List[float], exp: Union[float, str]) -> float:\n",
    "    if exp == 'inf':\n",
    "        return max([abs(x) for x in vector])\n",
    "    else:\n",
    "        return sum([abs(x)**exp for x in vector])**(1/exp)\n",
    "\n",
    "print(norm([1,2], 1))\n",
    "print(norm([1,2], 'inf'))\n",
    "# print(norm([1,2], 'frobenius'))   # fails"
   ]
  },
  {
   "cell_type": "markdown",
   "metadata": {
    "slideshow": {
     "slide_type": "slide"
    }
   },
   "source": [
    "## Optional"
   ]
  },
  {
   "cell_type": "code",
   "execution_count": 32,
   "metadata": {
    "scrolled": false,
    "slideshow": {
     "slide_type": "fragment"
    }
   },
   "outputs": [
    {
     "name": "stdout",
     "output_type": "stream",
     "text": [
      "<string>:11: error: Unsupported operand types for + (\"None\" and \"int\")\n",
      "<string>:11: note: Left operand is of type \"Optional[int]\"\n",
      "\n",
      "2\n",
      "None\n"
     ]
    },
    {
     "data": {
      "text/plain": [
       "7"
      ]
     },
     "execution_count": 32,
     "metadata": {},
     "output_type": "execute_result"
    }
   ],
   "source": [
    "%%typecheck\n",
    "from typing import List, Optional\n",
    "def get_item(vec: List[int], i:int) -> Optional[int]:\n",
    "    if i < len(vec):\n",
    "        return vec[i]\n",
    "    else:\n",
    "        return None\n",
    "\n",
    "print(get_item([1,2], 1))\n",
    "print(get_item([1,2], 3))\n",
    "get_item([1,2], 1) + 5"
   ]
  },
  {
   "cell_type": "markdown",
   "metadata": {
    "slideshow": {
     "slide_type": "slide"
    }
   },
   "source": [
    "## Generic"
   ]
  },
  {
   "cell_type": "code",
   "execution_count": 36,
   "metadata": {
    "scrolled": false,
    "slideshow": {
     "slide_type": "fragment"
    }
   },
   "outputs": [
    {
     "name": "stdout",
     "output_type": "stream",
     "text": [
      "<string>:10: error: Value of type variable \"AnyStr\" of \"concat\" cannot be \"object\"\n",
      "<string>:11: error: Value of type variable \"AnyStr\" of \"concat\" cannot be \"int\"\n",
      "<string>:12: error: Revealed type is 'builtins.str*'\n",
      "<string>:13: error: Revealed type is 'builtins.bytes*'\n",
      "\n"
     ]
    }
   ],
   "source": [
    "%%typecheck\n",
    "from typing import TypeVar\n",
    "\n",
    "AnyStr = TypeVar('AnyStr', str, bytes)\n",
    "\n",
    "def concat(a:AnyStr, b:AnyStr) -> AnyStr:\n",
    "    return a + b\n",
    "\n",
    "def main()->None:\n",
    "    concat('x', b'y')\n",
    "    concat(1, 2)\n",
    "    reveal_type(concat('x', 'y'))      # processed by 'mypy', undefined in Python\n",
    "    reveal_type(concat(b'x', b'y'))\n"
   ]
  },
  {
   "cell_type": "code",
   "execution_count": 52,
   "metadata": {
    "slideshow": {
     "slide_type": "slide"
    }
   },
   "outputs": [
    {
     "name": "stdout",
     "output_type": "stream",
     "text": [
      "<string>:11: error: Revealed type is 'builtins.int*'\n",
      "<string>:13: error: Revealed type is 'builtins.str'\n",
      "\n"
     ]
    }
   ],
   "source": [
    "%%typecheck\n",
    "from typing import TypeVar, List\n",
    "\n",
    "MatrixItem = TypeVar('MatrixItem')\n",
    "\n",
    "def mat_col(matrix: List[List[MatrixItem]], i:int) -> List[MatrixItem]:\n",
    "    return [ row[i] for row in matrix]\n",
    "\n",
    "def main()->None:\n",
    "    x_int = mat_col([[1,2], [3,4]], 0)\n",
    "    reveal_type(sum(x_int))\n",
    "    x_str = mat_col([['a','b'], ['c','d']], 0)\n",
    "    reveal_type(' '.join(x_str))\n"
   ]
  },
  {
   "cell_type": "markdown",
   "metadata": {
    "slideshow": {
     "slide_type": "slide"
    }
   },
   "source": [
    "## static duck typing\n",
    "\n",
    "### Nominal subtyping - skrze dědičnost: \n",
    "\n",
    "B je potomkem A => B je podtypem A\n",
    "    \n",
    "**Structural subtyping** - duck typing\n",
    "\n",
    "B má všechny atributy, které má A => B je podtypem A"
   ]
  },
  {
   "cell_type": "code",
   "execution_count": 42,
   "metadata": {
    "slideshow": {
     "slide_type": "slide"
    }
   },
   "outputs": [],
   "source": [
    "%%typecheck\n",
    "from typing import Optional, Tuple\n",
    "from typing_extensions import Protocol\n",
    "\n",
    "class PersonLike(Protocol):\n",
    "    name: str\n",
    "    def have_relation(self, other: 'PersonLike') -> bool: ...\n",
    "\n",
    "def marriage(a:PersonLike, b:PersonLike) -> Optional[Tuple[str,str]]:\n",
    "    if a.have_relation(b) and b.have_relation(a):\n",
    "        return (a.name, b.name)\n",
    "    else:\n",
    "        return None\n",
    "\n",
    "    "
   ]
  },
  {
   "cell_type": "markdown",
   "metadata": {
    "slideshow": {
     "slide_type": "slide"
    }
   },
   "source": [
    "## 'Any' - emergency exit"
   ]
  },
  {
   "cell_type": "code",
   "execution_count": 45,
   "metadata": {
    "slideshow": {
     "slide_type": "fragment"
    }
   },
   "outputs": [],
   "source": [
    "%%typecheck\n",
    "from typing import Any\n",
    "\n",
    "class Proxy:\n",
    "    def __getattr__(self, name:str) -> Any:\n",
    "        return getattr(self.wrapped, name)"
   ]
  },
  {
   "cell_type": "markdown",
   "metadata": {
    "slideshow": {
     "slide_type": "slide"
    }
   },
   "source": [
    "## 'cast' - emergency exit"
   ]
  },
  {
   "cell_type": "code",
   "execution_count": 49,
   "metadata": {
    "slideshow": {
     "slide_type": "fragment"
    }
   },
   "outputs": [
    {
     "name": "stdout",
     "output_type": "stream",
     "text": [
      "<string>:9: error: Revealed type is 'Any'\n",
      "<string>:11: error: Revealed type is 'builtins.str'\n",
      "\n"
     ]
    }
   ],
   "source": [
    "%%typecheck\n",
    "from typing import cast\n",
    "\n",
    "def external_func(val = 0):\n",
    "    return val\n",
    "\n",
    "def main() -> None:\n",
    "    some_value = external_func()\n",
    "    reveal_type(some_value)\n",
    "    str_value = cast(str, external_func()) # !! Error\n",
    "    reveal_type(str_value)\n",
    "\n"
   ]
  },
  {
   "cell_type": "code",
   "execution_count": null,
   "metadata": {
    "slideshow": {
     "slide_type": "slide"
    }
   },
   "outputs": [],
   "source": [
    "## Sequence vs. List, runtime type manipulation"
   ]
  },
  {
   "cell_type": "code",
   "execution_count": 61,
   "metadata": {
    "slideshow": {
     "slide_type": "fragment"
    }
   },
   "outputs": [
    {
     "name": "stdout",
     "output_type": "stream",
     "text": [
      "True\n",
      "False\n",
      "True\n"
     ]
    }
   ],
   "source": [
    "import pytypes\n",
    "\n",
    "print(pytypes.is_subtype(Tuple[bool], Tuple[int]))\n",
    "print(pytypes.is_subtype(List[bool], List[int]))\n",
    "print(pytypes.is_subtype(Sequence[bool], Sequence[int]))\n"
   ]
  },
  {
   "cell_type": "markdown",
   "metadata": {
    "slideshow": {
     "slide_type": "slide"
    }
   },
   "source": [
    "## Další funkce:\n",
    "-  viz. [Carl Meyer, PyCon 2018](https://www.youtube.com/watch?v=pMgmKJyWKn8)\n",
    "- @overload - detailnější informace o návratovém typu funkce v závislosti na typu argumentů\n",
    "- '*.pyi' - něco jako hlavičkový soubor pro externí knihovny\n",
    "- 'ignore' - vypínání typecheckingu pro části kódu\n",
    "- gradual typechecking - systém lze pro velké projekty zavádět postupně\n",
    "- 'monkeytype' - nástroj pro generování 'pyi' pro existující kód\n",
    "- 'pyre' - rychlejší alternativa k 'mypy'\n",
    "\n",
    "**realtime kontrola typování v PyCharmu:**\n",
    "\n",
    "[Daniel Pyrathon (Jet Brains): Putting Type Hints to Work](https://www.youtube.com/watch?v=JqBCFfiE11g)\n",
    "\n",
    "**podrobný tutoriál:**\n",
    "\n",
    "[Geir Arne Hjelle: The Ultimate Guide to Python Type Checking](https://realpython.com/python-type-checking/)"
   ]
  },
  {
   "cell_type": "markdown",
   "metadata": {
    "slideshow": {
     "slide_type": "slide"
    }
   },
   "source": [
    "# Attrs - knihovna, kterou každý potřebuje\n",
    "\n",
    "[Attrs documentation](https://www.attrs.org/en/stable/)\n",
    "\n",
    "Odvozeno od:\n",
    "\n",
    "[Glyph Lefkowitz: The One Python Library Everyone Needs](https://glyph.twistedmatrix.com/2016/08/attrs.html)\n",
    "\n",
    "\n",
    "\n"
   ]
  },
  {
   "cell_type": "code",
   "execution_count": 74,
   "metadata": {
    "slideshow": {
     "slide_type": "fragment"
    }
   },
   "outputs": [
    {
     "name": "stdout",
     "output_type": "stream",
     "text": [
      "Point(x=1, y=2)\n",
      "True\n",
      "3\n"
     ]
    },
    {
     "data": {
      "text/plain": [
       "{'x': 1, 'y': 2}"
      ]
     },
     "execution_count": 74,
     "metadata": {},
     "output_type": "execute_result"
    }
   ],
   "source": [
    "import attr\n",
    "@attr.s(auto_attribs=True)\n",
    "class Point:\n",
    "    x: float\n",
    "    y: float\n",
    "        \n",
    "    def inf_norm(self):\n",
    "        return abs(self.x) + abs(self.y)\n",
    "\n",
    "p = Point(1,2)    \t\t# __init__\n",
    "print(p)          \t\t# __repr__\n",
    "print(p == Point(1,2))   # __eq__\n",
    "print(p.inf_norm())\n",
    "attr.asdict(p)\n",
    "\n"
   ]
  },
  {
   "cell_type": "code",
   "execution_count": 76,
   "metadata": {
    "slideshow": {
     "slide_type": "fragment"
    }
   },
   "outputs": [
    {
     "name": "stdout",
     "output_type": "stream",
     "text": [
      "Point(x='a', y='b')\n",
      "False\n",
      "{'x': 'a', 'y': 'b'}\n"
     ]
    }
   ],
   "source": [
    "q = Point('a', 'b')\n",
    "print(q)  # __repr__\n",
    "print(q == Point(1, 2))  # __eq__\n",
    "print(attr.asdict(q))"
   ]
  },
  {
   "cell_type": "code",
   "execution_count": 70,
   "metadata": {
    "slideshow": {
     "slide_type": "slide"
    }
   },
   "outputs": [
    {
     "ename": "ModuleNotFoundError",
     "evalue": "No module named 'dataclasses'",
     "output_type": "error",
     "traceback": [
      "\u001b[0;31m---------------------------------------------------------------------------\u001b[0m",
      "\u001b[0;31mModuleNotFoundError\u001b[0m                       Traceback (most recent call last)",
      "\u001b[0;32m<ipython-input-70-1f4d3538e87d>\u001b[0m in \u001b[0;36m<module>\u001b[0;34m()\u001b[0m\n\u001b[0;32m----> 1\u001b[0;31m \u001b[0;32mimport\u001b[0m \u001b[0mdataclasses\u001b[0m\u001b[0;34m\u001b[0m\u001b[0;34m\u001b[0m\u001b[0m\n\u001b[0m\u001b[1;32m      2\u001b[0m \u001b[0;31m# New in Python 3.7\u001b[0m\u001b[0;34m\u001b[0m\u001b[0;34m\u001b[0m\u001b[0;34m\u001b[0m\u001b[0m\n\u001b[1;32m      3\u001b[0m \u001b[0;34m\u001b[0m\u001b[0m\n\u001b[1;32m      4\u001b[0m \u001b[0;34m@\u001b[0m\u001b[0mdataclass\u001b[0m\u001b[0;34m\u001b[0m\u001b[0;34m\u001b[0m\u001b[0m\n\u001b[1;32m      5\u001b[0m \u001b[0;32mclass\u001b[0m \u001b[0mPoint\u001b[0m\u001b[0;34m:\u001b[0m\u001b[0;34m\u001b[0m\u001b[0;34m\u001b[0m\u001b[0m\n",
      "\u001b[0;31mModuleNotFoundError\u001b[0m: No module named 'dataclasses'"
     ]
    }
   ],
   "source": [
    "import dataclasses\n",
    "# New in Python 3.7\n",
    "\n",
    "@dataclass\n",
    "class Point:\n",
    "    x: float\n",
    "    y: float\n",
    "        \n",
    "    def inf_norm(self):\n",
    "        return abs(self.x) + abs(self.y)\n",
    "\n",
    "p = Point(1,2)    \t\t# __init__\n",
    "print(p)          \t\t# __repr__\n",
    "print(p == Point(1,2))   # __eq__\n",
    "print(p.inf_norm())\n"
   ]
  },
  {
   "cell_type": "markdown",
   "metadata": {},
   "source": [
    "## Srovnání\n",
    "**namedtuple** - je pouze čitelnější Tuple, nemá nahradit třídy\n",
    "**dataclasses** - standardizovaná podmnožina 'attrs', chybí:\n",
    "    \t- podpora pro Python 2.7, PyPy\n",
    "        - validátory, konvertory, __slots__\n",
    "        "
   ]
  }
 ],
 "metadata": {
  "celltoolbar": "Slideshow",
  "kernelspec": {
   "display_name": "Python 3",
   "language": "python",
   "name": "python3"
  },
  "language_info": {
   "codemirror_mode": {
    "name": "ipython",
    "version": 3
   },
   "file_extension": ".py",
   "mimetype": "text/x-python",
   "name": "python",
   "nbconvert_exporter": "python",
   "pygments_lexer": "ipython3",
   "version": "3.6.7"
  }
 },
 "nbformat": 4,
 "nbformat_minor": 2
}
